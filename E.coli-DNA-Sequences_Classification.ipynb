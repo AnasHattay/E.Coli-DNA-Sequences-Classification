{
  "cells": [
    {
      "cell_type": "markdown",
      "metadata": {
        "id": "view-in-github",
        "colab_type": "text"
      },
      "source": [
        "<a href=\"https://colab.research.google.com/github/AnasHattay/E.Coli-DNA-Sequences-Classification/blob/main/E.coli-DNA-Sequences_Classification.ipynb\" target=\"_parent\"><img src=\"https://colab.research.google.com/assets/colab-badge.svg\" alt=\"Open In Colab\"/></a>"
      ]
    },
    {
      "cell_type": "markdown",
      "source": [
        "**DNA Sequence Classification using Machine Learning**"
      ],
      "metadata": {
        "id": "B91MBi8BmMFT"
      },
      "id": "B91MBi8BmMFT"
    },
    {
      "cell_type": "markdown",
      "source": [
        "*Introduction*"
      ],
      "metadata": {
        "id": "FDA4lyDBhHK3"
      },
      "id": "FDA4lyDBhHK3"
    },
    {
      "cell_type": "markdown",
      "source": [
        "In genetics, a promoter is a region of DNA where transcription of a gene is initiated. Promoters are a vital component of expression vectors because they control the binding of RNA polymerase to DNA. RNA polymerase transcribes DNA to mRNA which is ultimately translated into a functional protein. Thus the promoter region controls when and where in the organism your gene of interest is expressed."
      ],
      "metadata": {
        "id": "MgoAygQSg4hy"
      },
      "id": "MgoAygQSg4hy"
    },
    {
      "cell_type": "markdown",
      "source": [
        "![unnamed.png](data:image/png;base64,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)"
      ],
      "metadata": {
        "id": "wbYwc7IViXmr"
      },
      "id": "wbYwc7IViXmr"
    },
    {
      "cell_type": "markdown",
      "source": [
        "**The Domain Theory (for recognizing promoters):**\n",
        "\n",
        "\n",
        "   Promoters have a region where a protein (RNA polymerase) must make contact\n",
        "   and the helical DNA sequence must have a valid conformation so that\n",
        "   the two pieces of the contact region spatially align.\n",
        "\n",
        "\n",
        "   There are two regions \"upstream\" from the beginning of the gene\n",
        "   at which the RNA polymerase makes contact.\n",
        "\n",
        "    contact  :- minus_35, minus_10.\n",
        "\n",
        "  \n",
        "\n",
        "\n",
        "  "
      ],
      "metadata": {
        "id": "1SkxQdwG8Pz_"
      },
      "id": "1SkxQdwG8Pz_"
    },
    {
      "cell_type": "markdown",
      "source": [
        "An example of promoter sequences:"
      ],
      "metadata": {
        "id": "QlCc3-8RAx8X"
      },
      "id": "QlCc3-8RAx8X"
    },
    {
      "cell_type": "markdown",
      "source": [
        "![image.png](data:image/png;base64,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)"
      ],
      "metadata": {
        "id": "vy4Gxeh4ABpe"
      },
      "id": "vy4Gxeh4ABpe"
    },
    {
      "cell_type": "markdown",
      "source": [
        " *The following rules describe the compositions of possible contact regions:*\n",
        "\n",
        "\n",
        "**Minus_35**\n",
        "\n",
        "*   minus_35 :- p-37=c, p-36=t, p-35=t, p-34=g, p-33=a, p-32=c.\n",
        "\n",
        "*   minus_35 :- p-37=c, p-36=t, p-35=t, p-34=g, p-33=a, p-32=c.\n",
        "\n",
        "*   minus_35 :-         p-36=t, p-35=t, p-34=g, p-33=a, p-32=c, p-31=a.\n",
        "\n",
        "*   minus_35 :-         p-36=t, p-35=t, p-34=g, p-33=a, p-32=c.\n",
        "\n",
        "**Minus_10**\n",
        "\n",
        "*  minus_10 :- p-14 t, p-13 a, p-12=t, p-11=a, p-10=a, p-9=t. \n",
        "\n",
        "*  minus_10 :-         p-13 t, p-12=a,         p-10=a,        p-8=t.\n",
        "\n",
        "*  minus_10 :-         p-13 t, p-12=a, p-11=t, p-10=a, p-9=a, p-8=t.\n",
        "\n",
        "*  minus_10 :-                 p-12=t, p-11=a,                       p-7=t. "
      ],
      "metadata": {
        "id": "KuwjWOCa_pxX"
      },
      "id": "KuwjWOCa_pxX"
    },
    {
      "cell_type": "markdown",
      "source": [
        "This project aims to classify E.coli bacteria DNA sequences into two classes : Promoters/no promoters .\n",
        "After Visualizing and transforming the dataset provided from the Department of Molecular Biology and Biochemistry , we will try some classification algorithms with the best hyperparameters obtained by the gridsearch method.\\"
      ],
      "metadata": {
        "id": "8OTyzpfzknmc"
      },
      "id": "8OTyzpfzknmc"
    },
    {
      "cell_type": "markdown",
      "source": [
        "## Importing libraries"
      ],
      "metadata": {
        "id": "fW4RVQQJxhTr"
      },
      "id": "fW4RVQQJxhTr"
    },
    {
      "cell_type": "code",
      "execution_count": null,
      "id": "0683929f-41a4-4f63-9797-25d7dd871595",
      "metadata": {
        "id": "0683929f-41a4-4f63-9797-25d7dd871595"
      },
      "outputs": [],
      "source": [
        "import sys \n",
        "import numpy\n",
        "import sklearn \n",
        "import pandas as pd\n",
        "import numpy as np"
      ]
    },
    {
      "cell_type": "markdown",
      "source": [
        "## Exploring the Dataset"
      ],
      "metadata": {
        "id": "M9eo4uwmB8Ix"
      },
      "id": "M9eo4uwmB8Ix"
    },
    {
      "cell_type": "code",
      "execution_count": null,
      "id": "1359576b-4248-408b-a3bc-df75dac5256a",
      "metadata": {
        "id": "1359576b-4248-408b-a3bc-df75dac5256a"
      },
      "outputs": [],
      "source": [
        "# Import the dataset\n",
        "\n",
        "url = 'https://archive.ics.uci.edu/ml/machine-learning-databases/molecular-biology/promoter-gene-sequences/promoters.data'\n",
        "names = ['Class', 'id', 'Sequence']\n",
        "data = pd.read_csv(url, names = names)"
      ]
    },
    {
      "cell_type": "code",
      "execution_count": null,
      "id": "c717fe73-00a4-407c-a123-b2504e3c0301",
      "metadata": {
        "id": "c717fe73-00a4-407c-a123-b2504e3c0301"
      },
      "outputs": [],
      "source": [
        "data.head()"
      ]
    },
    {
      "cell_type": "code",
      "execution_count": null,
      "id": "97d4f0ea-5b35-4e08-9be5-abf8fbadaa83",
      "metadata": {
        "id": "97d4f0ea-5b35-4e08-9be5-abf8fbadaa83"
      },
      "outputs": [],
      "source": [
        "print(data.iloc[0])\n"
      ]
    },
    {
      "cell_type": "code",
      "execution_count": null,
      "id": "8edf25d8-1a4d-40ee-8759-936df2b08e01",
      "metadata": {
        "id": "8edf25d8-1a4d-40ee-8759-936df2b08e01"
      },
      "outputs": [],
      "source": [
        "classes = data.loc[:, 'Class']\n",
        "print(classes[:5])"
      ]
    },
    {
      "cell_type": "markdown",
      "source": [
        "##Preprocessing the dataset\n"
      ],
      "metadata": {
        "id": "QT5hrpnkCH05"
      },
      "id": "QT5hrpnkCH05"
    },
    {
      "cell_type": "code",
      "execution_count": null,
      "id": "50600b70-4ece-433a-91e8-7e95ed96485e",
      "metadata": {
        "colab": {
          "base_uri": "https://localhost:8080/"
        },
        "id": "50600b70-4ece-433a-91e8-7e95ed96485e",
        "outputId": "bf454bab-fe80-4f4c-f855-edd425e17681"
      },
      "outputs": [
        {
          "output_type": "stream",
          "name": "stdout",
          "text": [
            "['t', 'a', 'c', 't', 'a', 'g', 'c', 'a', 'a', 't', 'a', 'c', 'g', 'c', 't', 't', 'g', 'c', 'g', 't', 't', 'c', 'g', 'g', 't', 'g', 'g', 't', 't', 'a', 'a', 'g', 't', 'a', 't', 'g', 't', 'a', 't', 'a', 'a', 't', 'g', 'c', 'g', 'c', 'g', 'g', 'g', 'c', 't', 't', 'g', 't', 'c', 'g', 't', '+']\n"
          ]
        }
      ],
      "source": [
        "# generate list of DNA sequences\n",
        "sequences = list(data.loc[:, 'Sequence'])\n",
        "dataset = {}\n",
        "\n",
        "# loop through sequences and split into individual nucleotides\n",
        "for i, seq in enumerate(sequences):\n",
        "    \n",
        "    # split into nucleotides, remove tab characters\n",
        "    nucleotides = list(seq)\n",
        "    nucleotides = [x for x in nucleotides if x != '\\t']\n",
        "    \n",
        "    # append class assignment\n",
        "    nucleotides.append(classes[i])\n",
        "    \n",
        "    # add to dataset\n",
        "    dataset[i] = nucleotides\n",
        "    \n",
        "print(dataset[0])"
      ]
    },
    {
      "cell_type": "code",
      "execution_count": null,
      "id": "6d7a7f3b-0822-421c-9a36-ac2106c394a1",
      "metadata": {
        "colab": {
          "base_uri": "https://localhost:8080/"
        },
        "id": "6d7a7f3b-0822-421c-9a36-ac2106c394a1",
        "outputId": "5cd8e3cf-8253-4646-b748-847cc6ef3666"
      },
      "outputs": [
        {
          "output_type": "execute_result",
          "data": {
            "text/plain": [
              "dict"
            ]
          },
          "metadata": {},
          "execution_count": 7
        }
      ],
      "source": [
        "type(dataset)"
      ]
    },
    {
      "cell_type": "code",
      "execution_count": null,
      "id": "155075f1-0061-4166-9fec-a83d75feb692",
      "metadata": {
        "id": "155075f1-0061-4166-9fec-a83d75feb692"
      },
      "outputs": [],
      "source": [
        "# turn dataset into pandas DataFrame\n",
        "dframe = pd.DataFrame(dataset)\n",
        "print(dframe)"
      ]
    },
    {
      "cell_type": "code",
      "execution_count": null,
      "id": "67c2cbe5-e7a6-4323-98b2-48fed6f213c0",
      "metadata": {
        "id": "67c2cbe5-e7a6-4323-98b2-48fed6f213c0"
      },
      "outputs": [],
      "source": [
        "df=dframe.transpose()"
      ]
    },
    {
      "cell_type": "code",
      "execution_count": null,
      "id": "b475d6c9-5a9a-4ff8-93f8-bcce35c51571",
      "metadata": {
        "id": "b475d6c9-5a9a-4ff8-93f8-bcce35c51571"
      },
      "outputs": [],
      "source": [
        "df.rename(columns={57:'Class'},inplace=True)"
      ]
    },
    {
      "cell_type": "code",
      "execution_count": null,
      "id": "61f72a8b-f0bd-49be-99c5-e83e87e16f5e",
      "metadata": {
        "id": "61f72a8b-f0bd-49be-99c5-e83e87e16f5e"
      },
      "outputs": [],
      "source": [
        "df.describe()\n"
      ]
    },
    {
      "cell_type": "code",
      "execution_count": null,
      "id": "cce9d23e-defe-44c7-953c-0e196bc85861",
      "metadata": {
        "id": "cce9d23e-defe-44c7-953c-0e196bc85861"
      },
      "outputs": [],
      "source": [
        "# Record value counts for each sequence\n",
        "\n",
        "Output=[]\n",
        "for x in df.columns :\n",
        "    Output.append(df[x].value_counts())"
      ]
    },
    {
      "cell_type": "code",
      "execution_count": null,
      "id": "9057dd0e-8ea0-48c3-b399-d84c9c0f1075",
      "metadata": {
        "id": "9057dd0e-8ea0-48c3-b399-d84c9c0f1075"
      },
      "outputs": [],
      "source": [
        "info=pd.DataFrame(Output)"
      ]
    },
    {
      "cell_type": "code",
      "execution_count": null,
      "id": "0eb42bd0-1d24-4733-bc61-31f1e07f48b2",
      "metadata": {
        "id": "0eb42bd0-1d24-4733-bc61-31f1e07f48b2"
      },
      "outputs": [],
      "source": [
        "info.transpose()"
      ]
    },
    {
      "cell_type": "code",
      "execution_count": null,
      "id": "7591e56f-7323-46e7-a4b9-7931226706b6",
      "metadata": {
        "id": "7591e56f-7323-46e7-a4b9-7931226706b6"
      },
      "outputs": [],
      "source": [
        "df"
      ]
    },
    {
      "cell_type": "code",
      "source": [
        "import matplotlib.pyplot as plt\n",
        "\n",
        "from scipy import stats\n",
        "import seaborn as sns\n",
        "import warnings\n",
        "warnings.filterwarnings('ignore')"
      ],
      "metadata": {
        "id": "Kb5OgjF00zI1"
      },
      "id": "Kb5OgjF00zI1",
      "execution_count": null,
      "outputs": []
    },
    {
      "cell_type": "code",
      "execution_count": null,
      "id": "62650875-7ef7-4ed1-8c0f-37bc4864517f",
      "metadata": {
        "id": "62650875-7ef7-4ed1-8c0f-37bc4864517f"
      },
      "outputs": [],
      "source": [
        "from sklearn.preprocessing import OneHotEncoder"
      ]
    },
    {
      "cell_type": "code",
      "execution_count": null,
      "id": "e7862af9-61c6-403c-8877-657471469b7a",
      "metadata": {
        "id": "e7862af9-61c6-403c-8877-657471469b7a"
      },
      "outputs": [],
      "source": [
        "dfNumeric=pd.get_dummies(df)"
      ]
    },
    {
      "cell_type": "code",
      "execution_count": null,
      "id": "29217038-ede3-4a40-a288-2b2b08bee7b1",
      "metadata": {
        "id": "29217038-ede3-4a40-a288-2b2b08bee7b1"
      },
      "outputs": [],
      "source": [
        "dfNumeric"
      ]
    },
    {
      "cell_type": "code",
      "source": [
        "df.tail()\n"
      ],
      "metadata": {
        "id": "7fV2qCA3BY2e"
      },
      "id": "7fV2qCA3BY2e",
      "execution_count": null,
      "outputs": []
    },
    {
      "cell_type": "code",
      "execution_count": null,
      "id": "1d4281c2-4285-437e-a9b1-2d99a916215e",
      "metadata": {
        "id": "1d4281c2-4285-437e-a9b1-2d99a916215e"
      },
      "outputs": [],
      "source": [
        "#  Many machine learning algorithms cannot operate on label data directly. They require all input variables and output variables to be numeric.\n",
        "\n",
        "df = dfNumeric.drop(columns=['Class_-'])\n",
        "\n",
        "df.rename(columns = {'Class_+': 'Class'}, inplace = True)\n",
        "print(df.iloc[:5])"
      ]
    },
    {
      "cell_type": "code",
      "execution_count": null,
      "id": "b47b6e9d-154f-476a-a643-87bde2fbaa8f",
      "metadata": {
        "id": "b47b6e9d-154f-476a-a643-87bde2fbaa8f"
      },
      "outputs": [],
      "source": [
        "# Use the model_selection module to separate training and testing datasets\n",
        "from sklearn import model_selection\n",
        "\n",
        "# Create X and Y datasets for training\n",
        "X = np.array(df.drop(['Class'], axis=1))\n",
        "y = np.array(df['Class'])\n",
        "\n",
        "# define seed for reproducibility\n",
        "seed = 1\n",
        "\n",
        "# split data into training and testing datasets\n",
        "X_train, X_test, y_train, y_test = model_selection.train_test_split(X, y, test_size=0.25,random_state=seed)"
      ]
    },
    {
      "cell_type": "markdown",
      "source": [
        "## Training and Evaluating"
      ],
      "metadata": {
        "id": "Wyq_JCT1CUl5"
      },
      "id": "Wyq_JCT1CUl5"
    },
    {
      "cell_type": "code",
      "execution_count": null,
      "id": "1cc85144-1d3e-4cb3-a4b1-7159bf27442b",
      "metadata": {
        "id": "1cc85144-1d3e-4cb3-a4b1-7159bf27442b"
      },
      "outputs": [],
      "source": [
        "\n",
        "\n",
        "from sklearn.neighbors import KNeighborsClassifier\n",
        "from sklearn.neural_network import MLPClassifier\n",
        "from sklearn.gaussian_process import GaussianProcessClassifier\n",
        "from sklearn.gaussian_process.kernels import RBF\n",
        "from sklearn.tree import DecisionTreeClassifier\n",
        "from sklearn.ensemble import RandomForestClassifier, AdaBoostClassifier,ExtraTreesClassifier\n",
        "from sklearn.linear_model import SGDClassifier\n",
        "from sklearn.naive_bayes import GaussianNB\n",
        "from sklearn.svm import SVC\n",
        "from sklearn.metrics import classification_report, accuracy_score\n",
        "\n",
        "#define scoring method\n",
        "scoring ='accuracy'\n",
        "#define the model to train\n",
        "names = [\"Nearest Neighbors\", \"Gaussian Process\",\"Decision Tree\",\"Random Forest\",\n",
        "         \"Neural Net\", \"AdaBoost\",\"ExtraTreesClassifier\",\"Naive Bayes\",\"SGDClassifier\",\"SVM Linear\",\"SVM RBF\",\"SVM Sigmoid\"]\n",
        "classifiers =[\n",
        "    KNeighborsClassifier(n_neighbors=3),\n",
        "    GaussianProcessClassifier(1.0 * RBF(1.0)),\n",
        "    DecisionTreeClassifier(max_depth=5),\n",
        "    RandomForestClassifier(max_depth=5, n_estimators=10,max_features=1),\n",
        "    MLPClassifier(alpha=1),\n",
        "    AdaBoostClassifier(algorithm='SAMME.R', base_estimator=None, learning_rate=0.2,\n",
        "                   n_estimators=230, random_state=1),\n",
        "    ExtraTreesClassifier(bootstrap=False, ccp_alpha=0.0,\n",
        "                     class_weight='balanced_subsample', criterion='gini',\n",
        "                     max_depth=4, max_features='sqrt', max_leaf_nodes=None,\n",
        "                     max_samples=None, min_impurity_decrease=0.0005,\n",
        "                     min_impurity_split=None, min_samples_leaf=3,\n",
        "                     min_samples_split=5, min_weight_fraction_leaf=0.0,\n",
        "                     n_estimators=260, n_jobs=-1, oob_score=False,\n",
        "                     random_state=123, verbose=0, warm_start=False),\n",
        "    GaussianNB(),\n",
        "    SGDClassifier(alpha=0.05, average=False, class_weight=None,\n",
        "              early_stopping=False, epsilon=0.1, eta0=0.001,\n",
        "              fit_intercept=False, l1_ratio=0.8900000001,\n",
        "              learning_rate='optimal', loss='hinge', max_iter=1000,\n",
        "              n_iter_no_change=5, n_jobs=-1, penalty='l2', power_t=0.5,\n",
        "              random_state=123, shuffle=True, tol=0.001,\n",
        "              validation_fraction=0.1, verbose=0, warm_start=False),\n",
        "    SVC(kernel='linear'),\n",
        "    SVC(kernel='rbf'),\n",
        "    SVC(kernel='sigmoid')\n",
        "]\n",
        "models =zip(names,classifiers)\n",
        "# evaluate each model in turn\n",
        "results = []\n",
        "names=[]\n",
        "for name,model in models:\n",
        "    kfold = model_selection.KFold(n_splits = 10, shuffle=True)\n",
        "    cv_results = model_selection.cross_val_score(model, X_train,y_train,cv=kfold,scoring=scoring)\n",
        "    results.append(cv_results)\n",
        "    names.append(name)\n",
        "    msg= \"%s: %f (%f)\" %(name, cv_results.mean(), cv_results.std())\n",
        "    \n",
        "    print(msg)\n",
        "    model.fit(X_train,y_train)\n",
        "    predictions= model.predict(X_test)\n",
        "    print(name)\n",
        "    \n",
        "    print(classification_report(y_test,predictions))"
      ]
    },
    {
      "cell_type": "markdown",
      "source": [
        "Finally, it is clear that the SVM Linear algorithm has the best performance (F1-Score)."
      ],
      "metadata": {
        "id": "Q8XuieqQGA-3"
      },
      "id": "Q8XuieqQGA-3"
    }
  ],
  "metadata": {
    "kernelspec": {
      "display_name": "Python 3 (ipykernel)",
      "language": "python",
      "name": "python3"
    },
    "language_info": {
      "codemirror_mode": {
        "name": "ipython",
        "version": 3
      },
      "file_extension": ".py",
      "mimetype": "text/x-python",
      "name": "python",
      "nbconvert_exporter": "python",
      "pygments_lexer": "ipython3",
      "version": "3.9.12"
    },
    "colab": {
      "provenance": [],
      "collapsed_sections": [],
      "include_colab_link": true
    },
    "accelerator": "GPU"
  },
  "nbformat": 4,
  "nbformat_minor": 5
}